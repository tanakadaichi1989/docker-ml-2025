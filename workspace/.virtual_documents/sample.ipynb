import pandas as pd
df = pd.read_csv("Wholesale.csv")
df.head(3)


df.isnull().sum()


df = df.drop(['Channel','Region'], axis = 1)
print(df)


from sklearn.preprocessing import StandardScaler

sc = StandardScaler()
sc_df = sc.fit_transform(df)
sc_df = pd.DataFrame(sc_df, columns = df.columns)
print(sc_df)


from sklearn.cluster import KMeans
model = KMeans(n_clusters = 3, random_state = 0)
model.fit(sc_df)
print(model.labels_)


sc_df['cluster'] = model.labels_
sc_df.head(2)


import matplotlib.pyplot as plt
cluster_mean = sc_df.groupby('cluster').mean()
cluster_mean.plot(kind = 'bar')
plt.show()


from sklearn.cluster import KMeans

sse_list = []
for n in range(2,31):
    model = KMeans(n_clusters = n, random_state = 0)
    model.fit(sc_df)
    sse = model.inertia_
    sse_list.append(sse)
sse_list

se = pd.Series(sse_list)
num = range(2,31)
se.index = num
se.plot(kind = 'line')
plt.show()


model = KMeans(n_clusters = 5, random_state = 0)
model.fit(sc_df)
sc_df['cluster_5'] = model.labels_
sc_df.to_csv('clousterd_Wholesale.csv', index = False)


import matplotlib.pyplot as plt
cluster_mean = sc_df.groupby('cluster_5').mean()
cluster_mean.plot(kind = 'bar')
plt.show()






