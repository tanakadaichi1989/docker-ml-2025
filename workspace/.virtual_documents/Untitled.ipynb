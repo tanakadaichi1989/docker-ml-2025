import pandas as pd
df = pd.read_csv('Boston.csv')
df.head(2)


# 欠損値の確認
df.isnull().sum()



