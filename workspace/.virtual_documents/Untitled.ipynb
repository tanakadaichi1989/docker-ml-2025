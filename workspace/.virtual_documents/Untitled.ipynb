import pandas as pd

df = pd.read_csv('cinema.csv')
df.head(3)

df.isnull().any(axis = 0)


df2 = df.fillna(df.mean())
df2.isnull().any(axis = 0)


import matplotlib.pyplot as plt

for name in df2.columns:
    if name == 'cinema_id' or name == 'sales':
        continue
    df2.plot(kind = 'scatter', x = name, y = 'sales')

plt.show()


no = df2[(df2['SNS2'] > 1000) & (df['sales'] < 8500)].index
df3 = df2.drop(no, axis = 0)
df3.shape


col = ['SNS1','SNS2','actor','original']
x = df3[col]
t = df3['sales']


from sklearn.model_selection import train_test_split
x_train, x_test, y_train, y_test = train_test_split(x,t, test_size = 0.2, random_state = 0)


from sklearn.linear_model import LinearRegression
model = LinearRegression()
model.fit(x_train, y_train)
new = [[150,700,300,0]]
model.predict(new)


model.score(x_test, y_test)


from sklearn.metrics import mean_absolute_error

pred = model.predict(x_test)
mean_absolute_error(y_pred = pred, y_true = y_test)


import pickle

with open('cinema.pkl','wb') as f:
    picke.dump(model,f)



