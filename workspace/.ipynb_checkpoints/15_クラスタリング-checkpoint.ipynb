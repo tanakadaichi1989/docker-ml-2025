{
 "cells": [
  {
   "cell_type": "code",
   "execution_count": 1,
   "id": "a0213617-d716-4ee8-a13c-25f02bd0a6b1",
   "metadata": {},
   "outputs": [
    {
     "data": {
      "text/html": [
       "<div>\n",
       "<style scoped>\n",
       "    .dataframe tbody tr th:only-of-type {\n",
       "        vertical-align: middle;\n",
       "    }\n",
       "\n",
       "    .dataframe tbody tr th {\n",
       "        vertical-align: top;\n",
       "    }\n",
       "\n",
       "    .dataframe thead th {\n",
       "        text-align: right;\n",
       "    }\n",
       "</style>\n",
       "<table border=\"1\" class=\"dataframe\">\n",
       "  <thead>\n",
       "    <tr style=\"text-align: right;\">\n",
       "      <th></th>\n",
       "      <th>Channel</th>\n",
       "      <th>Region</th>\n",
       "      <th>Fresh</th>\n",
       "      <th>Milk</th>\n",
       "      <th>Grocery</th>\n",
       "      <th>Frozen</th>\n",
       "      <th>Detergents_Paper</th>\n",
       "      <th>Delicassen</th>\n",
       "    </tr>\n",
       "  </thead>\n",
       "  <tbody>\n",
       "    <tr>\n",
       "      <th>0</th>\n",
       "      <td>2</td>\n",
       "      <td>3</td>\n",
       "      <td>12669</td>\n",
       "      <td>9656</td>\n",
       "      <td>7561</td>\n",
       "      <td>214</td>\n",
       "      <td>2674</td>\n",
       "      <td>1338</td>\n",
       "    </tr>\n",
       "    <tr>\n",
       "      <th>1</th>\n",
       "      <td>2</td>\n",
       "      <td>3</td>\n",
       "      <td>7057</td>\n",
       "      <td>9810</td>\n",
       "      <td>9568</td>\n",
       "      <td>1762</td>\n",
       "      <td>3293</td>\n",
       "      <td>1776</td>\n",
       "    </tr>\n",
       "    <tr>\n",
       "      <th>2</th>\n",
       "      <td>2</td>\n",
       "      <td>3</td>\n",
       "      <td>6353</td>\n",
       "      <td>8808</td>\n",
       "      <td>7684</td>\n",
       "      <td>2405</td>\n",
       "      <td>3516</td>\n",
       "      <td>7844</td>\n",
       "    </tr>\n",
       "  </tbody>\n",
       "</table>\n",
       "</div>"
      ],
      "text/plain": [
       "   Channel  Region  Fresh  Milk  Grocery  Frozen  Detergents_Paper  Delicassen\n",
       "0        2       3  12669  9656     7561     214              2674        1338\n",
       "1        2       3   7057  9810     9568    1762              3293        1776\n",
       "2        2       3   6353  8808     7684    2405              3516        7844"
      ]
     },
     "execution_count": 1,
     "metadata": {},
     "output_type": "execute_result"
    }
   ],
   "source": [
    "import pandas as pd\n",
    "df = pd.read_csv(\"Wholesale.csv\")\n",
    "df.head(3)"
   ]
  },
  {
   "cell_type": "code",
   "execution_count": 2,
   "id": "f0afbd38-442f-497b-81b2-8c46622dd5e7",
   "metadata": {},
   "outputs": [
    {
     "data": {
      "text/plain": [
       "Channel             0\n",
       "Region              0\n",
       "Fresh               0\n",
       "Milk                0\n",
       "Grocery             0\n",
       "Frozen              0\n",
       "Detergents_Paper    0\n",
       "Delicassen          0\n",
       "dtype: int64"
      ]
     },
     "execution_count": 2,
     "metadata": {},
     "output_type": "execute_result"
    }
   ],
   "source": [
    "df.isnull().sum()"
   ]
  },
  {
   "cell_type": "code",
   "execution_count": 5,
   "id": "9082f611-23d2-4700-9e1c-feb855e85861",
   "metadata": {},
   "outputs": [
    {
     "name": "stdout",
     "output_type": "stream",
     "text": [
      "     Fresh   Milk  Grocery  Frozen  Detergents_Paper  Delicassen\n",
      "0    12669   9656     7561     214              2674        1338\n",
      "1     7057   9810     9568    1762              3293        1776\n",
      "2     6353   8808     7684    2405              3516        7844\n",
      "3    13265   1196     4221    6404               507        1788\n",
      "4    22615   5410     7198    3915              1777        5185\n",
      "..     ...    ...      ...     ...               ...         ...\n",
      "435  29703  12051    16027   13135               182        2204\n",
      "436  39228   1431      764    4510                93        2346\n",
      "437  14531  15488    30243     437             14841        1867\n",
      "438  10290   1981     2232    1038               168        2125\n",
      "439   2787   1698     2510      65               477          52\n",
      "\n",
      "[440 rows x 6 columns]\n"
     ]
    }
   ],
   "source": [
    "df = df.drop(['Channel','Region'], axis = 1)\n",
    "print(df)"
   ]
  },
  {
   "cell_type": "code",
   "execution_count": 8,
   "id": "7da60563-32e1-4675-b3b4-9ff607919044",
   "metadata": {},
   "outputs": [
    {
     "name": "stdout",
     "output_type": "stream",
     "text": [
      "        Fresh      Milk   Grocery    Frozen  Detergents_Paper  Delicassen\n",
      "0    0.052933  0.523568 -0.041115 -0.589367         -0.043569   -0.066339\n",
      "1   -0.391302  0.544458  0.170318 -0.270136          0.086407    0.089151\n",
      "2   -0.447029  0.408538 -0.028157 -0.137536          0.133232    2.243293\n",
      "3    0.100111 -0.624020 -0.392977  0.687144         -0.498588    0.093411\n",
      "4    0.840239 -0.052396 -0.079356  0.173859         -0.231918    1.299347\n",
      "..        ...       ...       ...       ...               ...         ...\n",
      "435  1.401312  0.848446  0.850760  2.075222         -0.566831    0.241091\n",
      "436  2.155293 -0.592142 -0.757165  0.296561         -0.585519    0.291501\n",
      "437  0.200326  1.314671  2.348386 -0.543380          2.511218    0.121456\n",
      "438 -0.135384 -0.517536 -0.602514 -0.419441         -0.569770    0.213046\n",
      "439 -0.729307 -0.555924 -0.573227 -0.620094         -0.504888   -0.522869\n",
      "\n",
      "[440 rows x 6 columns]\n"
     ]
    }
   ],
   "source": [
    "from sklearn.preprocessing import StandardScaler\n",
    "\n",
    "sc = StandardScaler()\n",
    "sc_df = sc.fit_transform(df)\n",
    "sc_df = pd.DataFrame(sc_df, columns = df.columns)\n",
    "print(sc_df)"
   ]
  },
  {
   "cell_type": "code",
   "execution_count": 12,
   "id": "429e2c25-5f5d-42b4-967d-48304bb88edf",
   "metadata": {},
   "outputs": [
    {
     "name": "stdout",
     "output_type": "stream",
     "text": [
      "[2 2 2 2 0 2 2 2 2 1 2 2 0 2 2 2 2 2 2 2 2 2 0 1 0 2 2 2 1 0 2 2 2 0 2 2 0\n",
      " 2 1 0 0 2 2 1 2 1 1 1 2 1 2 2 0 2 0 2 1 2 2 2 2 1 2 2 2 1 2 2 2 2 0 0 2 0\n",
      " 2 2 2 1 2 2 2 2 2 2 2 1 1 0 2 0 2 2 1 0 2 2 2 2 2 2 2 2 2 0 2 2 2 2 2 1 2\n",
      " 2 0 2 2 2 2 2 0 2 2 2 2 2 0 0 0 2 2 0 2 2 2 2 2 2 2 2 2 2 2 0 0 2 2 1 2 2\n",
      " 2 0 2 2 2 2 2 1 2 2 2 2 2 2 2 1 2 1 2 2 2 2 2 1 2 1 2 2 0 2 2 2 2 0 2 1 2\n",
      " 2 2 2 2 2 0 2 2 2 2 0 0 2 2 2 1 1 0 2 2 1 2 2 2 1 2 1 2 2 2 2 1 2 2 2 2 2\n",
      " 2 2 2 2 2 2 2 2 2 2 2 2 2 2 2 2 2 0 0 2 2 2 2 2 2 2 2 2 2 1 2 0 2 0 2 2 0\n",
      " 0 2 2 2 2 2 1 2 0 2 2 2 2 2 0 2 2 0 0 2 2 2 2 0 0 0 0 2 0 2 0 2 2 2 2 2 2\n",
      " 2 2 2 2 2 1 2 2 1 2 1 2 2 1 0 0 1 2 2 2 2 2 2 1 2 2 2 2 0 0 2 2 0 2 2 1 2\n",
      " 1 0 0 2 2 2 2 2 2 2 1 2 2 2 0 2 1 2 1 2 2 2 2 2 2 2 2 2 2 2 2 2 2 2 2 2 2\n",
      " 0 0 2 2 2 2 2 0 2 2 0 0 0 2 1 2 2 2 2 2 2 2 2 0 2 2 2 2 2 2 2 0 2 2 2 2 0\n",
      " 1 2 2 2 2 2 0 2 2 2 2 2 2 2 2 2 2 2 0 2 0 2 2 2 0 2 2 2 0 0 1 2 2]\n"
     ]
    }
   ],
   "source": [
    "from sklearn.cluster import KMeans\n",
    "model = KMeans(n_clusters = 3, random_state = 0)\n",
    "model.fit(sc_df)\n",
    "print(model.labels_)"
   ]
  },
  {
   "cell_type": "code",
   "execution_count": 13,
   "id": "57609cfd-9390-4cef-838f-3cf3bc41ceab",
   "metadata": {},
   "outputs": [
    {
     "data": {
      "text/html": [
       "<div>\n",
       "<style scoped>\n",
       "    .dataframe tbody tr th:only-of-type {\n",
       "        vertical-align: middle;\n",
       "    }\n",
       "\n",
       "    .dataframe tbody tr th {\n",
       "        vertical-align: top;\n",
       "    }\n",
       "\n",
       "    .dataframe thead th {\n",
       "        text-align: right;\n",
       "    }\n",
       "</style>\n",
       "<table border=\"1\" class=\"dataframe\">\n",
       "  <thead>\n",
       "    <tr style=\"text-align: right;\">\n",
       "      <th></th>\n",
       "      <th>Fresh</th>\n",
       "      <th>Milk</th>\n",
       "      <th>Grocery</th>\n",
       "      <th>Frozen</th>\n",
       "      <th>Detergents_Paper</th>\n",
       "      <th>Delicassen</th>\n",
       "      <th>cluster</th>\n",
       "    </tr>\n",
       "  </thead>\n",
       "  <tbody>\n",
       "    <tr>\n",
       "      <th>0</th>\n",
       "      <td>0.052933</td>\n",
       "      <td>0.523568</td>\n",
       "      <td>-0.041115</td>\n",
       "      <td>-0.589367</td>\n",
       "      <td>-0.043569</td>\n",
       "      <td>-0.066339</td>\n",
       "      <td>2</td>\n",
       "    </tr>\n",
       "    <tr>\n",
       "      <th>1</th>\n",
       "      <td>-0.391302</td>\n",
       "      <td>0.544458</td>\n",
       "      <td>0.170318</td>\n",
       "      <td>-0.270136</td>\n",
       "      <td>0.086407</td>\n",
       "      <td>0.089151</td>\n",
       "      <td>2</td>\n",
       "    </tr>\n",
       "  </tbody>\n",
       "</table>\n",
       "</div>"
      ],
      "text/plain": [
       "      Fresh      Milk   Grocery    Frozen  Detergents_Paper  Delicassen  \\\n",
       "0  0.052933  0.523568 -0.041115 -0.589367         -0.043569   -0.066339   \n",
       "1 -0.391302  0.544458  0.170318 -0.270136          0.086407    0.089151   \n",
       "\n",
       "   cluster  \n",
       "0        2  \n",
       "1        2  "
      ]
     },
     "execution_count": 13,
     "metadata": {},
     "output_type": "execute_result"
    }
   ],
   "source": [
    "sc_df['cluster'] = model.labels_\n",
    "sc_df.head(2)"
   ]
  },
  {
   "cell_type": "code",
   "execution_count": 21,
   "id": "49c92bd4-8a00-46cb-8be0-ea7eedc2095e",
   "metadata": {},
   "outputs": [
    {
     "data": {
      "image/png": "[encoded data removed]",
      "text/plain": [
       "<Figure size 640x480 with 1 Axes>"
      ]
     },
     "metadata": {},
     "output_type": "display_data"
    }
   ],
   "source": [
    "import matplotlib.pyplot as plt\n",
    "cluster_mean = sc_df.groupby('cluster').mean()\n",
    "cluster_mean.plot(kind = 'bar')\n",
    "plt.show()"
   ]
  },
  {
   "cell_type": "code",
   "execution_count": 28,
   "id": "168b8676-24f0-4236-9dfe-1e6a90d93f07",
   "metadata": {},
   "outputs": [
    {
     "data": {
      "image/png": "[encoded data removed]",
      "text/plain": [
       "<Figure size 640x480 with 1 Axes>"
      ]
     },
     "metadata": {},
     "output_type": "display_data"
    }
   ],
   "source": [
    "from sklearn.cluster import KMeans\n",
    "\n",
    "sse_list = []\n",
    "for n in range(2,31):\n",
    "    model = KMeans(n_clusters = n, random_state = 0)\n",
    "    model.fit(sc_df)\n",
    "    sse = model.inertia_\n",
    "    sse_list.append(sse)\n",
    "sse_list\n",
    "\n",
    "se = pd.Series(sse_list)\n",
    "num = range(2,31)\n",
    "se.index = num\n",
    "se.plot(kind = 'line')\n",
    "plt.show()"
   ]
  },
  {
   "cell_type": "code",
   "execution_count": 30,
   "id": "14548c42-2f59-42ab-9608-2bf213ff1563",
   "metadata": {},
   "outputs": [],
   "source": [
    "model = KMeans(n_clusters = 5, random_state = 0)\n",
    "model.fit(sc_df)\n",
    "sc_df['cluster_5'] = model.labels_\n",
    "sc_df.to_csv('clousterd_Wholesale.csv', index = False)"
   ]
  },
  {
   "cell_type": "code",
   "execution_count": 1,
   "id": "7adad9db-28e6-4a92-b3c3-9043beae8bfb",
   "metadata": {},
   "outputs": [
    {
     "ename": "NameError",
     "evalue": "name 'sc_df' is not defined",
     "output_type": "error",
     "traceback": [
      "\u001b[0;31m---------------------------------------------------------------------------\u001b[0m",
      "\u001b[0;31mNameError\u001b[0m                                 Traceback (most recent call last)",
      "Cell \u001b[0;32mIn[1], line 2\u001b[0m\n\u001b[1;32m      1\u001b[0m \u001b[38;5;28;01mimport\u001b[39;00m \u001b[38;5;21;01mmatplotlib\u001b[39;00m\u001b[38;5;21;01m.\u001b[39;00m\u001b[38;5;21;01mpyplot\u001b[39;00m \u001b[38;5;28;01mas\u001b[39;00m \u001b[38;5;21;01mplt\u001b[39;00m\n\u001b[0;32m----> 2\u001b[0m cluster_mean \u001b[38;5;241m=\u001b[39m sc_df\u001b[38;5;241m.\u001b[39mgroupby(\u001b[38;5;124m'\u001b[39m\u001b[38;5;124mcluster_5\u001b[39m\u001b[38;5;124m'\u001b[39m)\u001b[38;5;241m.\u001b[39mmean()\n\u001b[1;32m      3\u001b[0m cluster_mean\u001b[38;5;241m.\u001b[39mplot(kind \u001b[38;5;241m=\u001b[39m \u001b[38;5;124m'\u001b[39m\u001b[38;5;124mbar\u001b[39m\u001b[38;5;124m'\u001b[39m)\n\u001b[1;32m      4\u001b[0m plt\u001b[38;5;241m.\u001b[39mshow()\n",
      "\u001b[0;31mNameError\u001b[0m: name 'sc_df' is not defined"
     ]
    }
   ],
   "source": [
    "import matplotlib.pyplot as plt\n",
    "cluster_mean = sc_df.groupby('cluster_5').mean()\n",
    "cluster_mean.plot(kind = 'bar')\n",
    "plt.show()"
   ]
  },
  {
   "cell_type": "code",
   "execution_count": null,
   "id": "a6c35925-a578-44d2-a2ce-cd28816088a4",
   "metadata": {},
   "outputs": [],
   "source": []
  },
  {
   "cell_type": "code",
   "execution_count": null,
   "id": "034922d4-6007-4f9c-bc12-8d9b331e9da7",
   "metadata": {},
   "outputs": [],
   "source": []
  }
 ],
 "metadata": {
  "kernelspec": {
   "display_name": "Python 3 (ipykernel)",
   "language": "python",
   "name": "python3"
  },
  "language_info": {
   "codemirror_mode": {
    "name": "ipython",
    "version": 3
   },
   "file_extension": ".py",
   "mimetype": "text/x-python",
   "name": "python",
   "nbconvert_exporter": "python",
   "pygments_lexer": "ipython3",
   "version": "3.12.7"
  }
 },
 "nbformat": 4,
 "nbformat_minor": 5
}
